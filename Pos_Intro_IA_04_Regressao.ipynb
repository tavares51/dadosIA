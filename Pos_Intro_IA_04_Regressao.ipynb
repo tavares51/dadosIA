{
  "cells": [
    {
      "cell_type": "markdown",
      "metadata": {
        "id": "pyOYcMBF6YtC"
      },
      "source": [
        "## Tarefas de regressão"
      ]
    },
    {
      "cell_type": "markdown",
      "metadata": {
        "id": "nXH_AMc06YtD"
      },
      "source": [
        "Até agora foram vistos alguns conceitos de classificação. Outro importante aspecto do aprendizado supervisionado são os modelos de aprendizagem para problemas de regressão. Nestes problemas, a saída esperada é contínua, em vez de valores discretos como na classificação.\n",
        "\n",
        "Um conjunto de dados de propaganda é disponibilizado junto com esse notebook, onde cada linha indica um tipo de mercado diferente. Importe os dados para visualizar a estrutura deles:"
      ]
    },
    {
      "cell_type": "code",
      "execution_count": null,
      "metadata": {
        "id": "xL6KMPaD6YtE",
        "outputId": "2c1fa203-11be-4a7c-c08f-ce28e5dd9990"
      },
      "outputs": [
        {
          "data": {
            "text/html": [
              "<div>\n",
              "<style scoped>\n",
              "    .dataframe tbody tr th:only-of-type {\n",
              "        vertical-align: middle;\n",
              "    }\n",
              "\n",
              "    .dataframe tbody tr th {\n",
              "        vertical-align: top;\n",
              "    }\n",
              "\n",
              "    .dataframe thead th {\n",
              "        text-align: right;\n",
              "    }\n",
              "</style>\n",
              "<table border=\"1\" class=\"dataframe\">\n",
              "  <thead>\n",
              "    <tr style=\"text-align: right;\">\n",
              "      <th></th>\n",
              "      <th>TV</th>\n",
              "      <th>Radio</th>\n",
              "      <th>Newspaper</th>\n",
              "      <th>Sales</th>\n",
              "    </tr>\n",
              "  </thead>\n",
              "  <tbody>\n",
              "    <tr>\n",
              "      <th>1</th>\n",
              "      <td>230.1</td>\n",
              "      <td>37.8</td>\n",
              "      <td>69.2</td>\n",
              "      <td>22.1</td>\n",
              "    </tr>\n",
              "    <tr>\n",
              "      <th>2</th>\n",
              "      <td>44.5</td>\n",
              "      <td>39.3</td>\n",
              "      <td>45.1</td>\n",
              "      <td>10.4</td>\n",
              "    </tr>\n",
              "    <tr>\n",
              "      <th>3</th>\n",
              "      <td>17.2</td>\n",
              "      <td>45.9</td>\n",
              "      <td>69.3</td>\n",
              "      <td>9.3</td>\n",
              "    </tr>\n",
              "    <tr>\n",
              "      <th>4</th>\n",
              "      <td>151.5</td>\n",
              "      <td>41.3</td>\n",
              "      <td>58.5</td>\n",
              "      <td>18.5</td>\n",
              "    </tr>\n",
              "    <tr>\n",
              "      <th>5</th>\n",
              "      <td>180.8</td>\n",
              "      <td>10.8</td>\n",
              "      <td>58.4</td>\n",
              "      <td>12.9</td>\n",
              "    </tr>\n",
              "  </tbody>\n",
              "</table>\n",
              "</div>"
            ],
            "text/plain": [
              "      TV  Radio  Newspaper  Sales\n",
              "1  230.1   37.8       69.2   22.1\n",
              "2   44.5   39.3       45.1   10.4\n",
              "3   17.2   45.9       69.3    9.3\n",
              "4  151.5   41.3       58.5   18.5\n",
              "5  180.8   10.8       58.4   12.9"
            ]
          },
          "metadata": {},
          "output_type": "display_data"
        }
      ],
      "source": [
        "import pandas as pd\n",
        "import numpy as np\n",
        "\n",
        "data = pd.read_csv('ad.data', index_col=0)\n",
        "display(data.head())"
      ]
    },
    {
      "cell_type": "code",
      "execution_count": null,
      "metadata": {
        "id": "JhfYWW676YtE",
        "outputId": "09dc98e9-fef9-45d0-8a85-ae2991794de5"
      },
      "outputs": [
        {
          "data": {
            "text/plain": [
              "(200, 4)"
            ]
          },
          "execution_count": 2,
          "metadata": {},
          "output_type": "execute_result"
        }
      ],
      "source": [
        "data.shape"
      ]
    },
    {
      "cell_type": "markdown",
      "metadata": {
        "id": "28AQtJpN6YtF"
      },
      "source": [
        "Quais são os atributos?\n",
        "- **TV:** dólares gastos em propagandas veiculadas na TV para um produto em determinado mercado (em milhões)\n",
        "- **Radio:** dólares gastos em propagandas veiculadas em rádio\n",
        "- **Newspaper:** dólares gastos com propaganda em jornais\n",
        "\n",
        "Qual o rótulo da amostra?\n",
        "- **Sales:** vendas (em milhares) de um determinado item em um mercado específico"
      ]
    },
    {
      "cell_type": "markdown",
      "metadata": {
        "id": "C4PMKDcQ6YtF"
      },
      "source": [
        "Para facilitar, os dados também poderiam ser visualizados para compreender melhor com a distribuição, e se há alguma tendência."
      ]
    },
    {
      "cell_type": "code",
      "execution_count": null,
      "metadata": {
        "id": "Pp1pXgr_6YtF",
        "outputId": "e1b613ce-b228-47ed-8971-d2e296b52b85"
      },
      "outputs": [
        {
          "name": "stderr",
          "output_type": "stream",
          "text": [
            "C:\\Users\\Pichau\\Anaconda3\\lib\\site-packages\\seaborn\\axisgrid.py:2065: UserWarning: The `size` parameter has been renamed to `height`; pleaes update your code.\n",
            "  warnings.warn(msg, UserWarning)\n"
          ]
        },
        {
          "data": {
            "text/plain": [
              "<seaborn.axisgrid.PairGrid at 0x22896e21438>"
            ]
          },
          "execution_count": 3,
          "metadata": {},
          "output_type": "execute_result"
        },
        {
          "data": {
            "image/png": "[encoded data removed]",
            "text/plain": [
              "<Figure size 1058.4x504 with 3 Axes>"
            ]
          },
          "metadata": {
            "needs_background": "light"
          },
          "output_type": "display_data"
        }
      ],
      "source": [
        "import seaborn as sns\n",
        "%matplotlib inline\n",
        "\n",
        "sns.pairplot(data, x_vars=['TV','Radio','Newspaper'], y_vars='Sales', size=7, aspect=0.7, kind='reg')"
      ]
    },
    {
      "cell_type": "markdown",
      "metadata": {
        "id": "rBMmkdJS6YtF"
      },
      "source": [
        "## Regressão Linear\n",
        "\n",
        "Uma das formas de resolver um problema desse tipo é aplicando a regressão linear. Nesse método, procura-se uma função capaz de traçar uma linha de tendência que servirá para prever um valor futuro em determinadas condições. A vantagem é que é um modelo matematicamente simples de interpretar. A desvantagem é que dificilmente levará a uma acurácia satisfatória."
      ]
    },
    {
      "cell_type": "markdown",
      "metadata": {
        "id": "D3q-2PXw6YtF"
      },
      "source": [
        "### Forma da regressão linear:\n",
        "\n",
        "$y = \\beta_0 + \\beta_1x_1 + \\beta_2x_2 + ... + \\beta_nx_n$\n",
        "\n",
        "- $y$ é a saída\n",
        "- $\\beta_0$ é um valor de bias (deslocamento)\n",
        "- $\\beta_1$ é o coeficiente de $x_1$ (do primeiro atributo)\n",
        "- $\\beta_n$ é o coeficiente de $x_n$ (do n-ésimo atributo)\n",
        "\n",
        "Assim, para esse problema, tem-se:\n",
        "\n",
        "$y = \\beta_0 + \\beta_1 \\times TV + \\beta_2 \\times Radio + \\beta_3 \\times Newspaper$\n",
        "\n",
        "Os valores $\\beta$ são chamados de **coeficientes de modelo** e são ajustados na etapa de aprendizagem, a qual acontece com o ajuste do modelo utilizando o critério dos \"quadrados mínimos\". Uma vez aprendidos esses parâmetros, o modelo pode ser usado de forma preditiva!"
      ]
    },
    {
      "cell_type": "markdown",
      "metadata": {
        "id": "nXR8PXHa6YtF"
      },
      "source": [
        "### Separando os atributos da classe"
      ]
    },
    {
      "cell_type": "code",
      "execution_count": null,
      "metadata": {
        "id": "GocUehPS6YtF",
        "outputId": "bd85a15d-563d-45cd-da57-c2b2e736b412"
      },
      "outputs": [
        {
          "data": {
            "text/html": [
              "<div>\n",
              "<style scoped>\n",
              "    .dataframe tbody tr th:only-of-type {\n",
              "        vertical-align: middle;\n",
              "    }\n",
              "\n",
              "    .dataframe tbody tr th {\n",
              "        vertical-align: top;\n",
              "    }\n",
              "\n",
              "    .dataframe thead th {\n",
              "        text-align: right;\n",
              "    }\n",
              "</style>\n",
              "<table border=\"1\" class=\"dataframe\">\n",
              "  <thead>\n",
              "    <tr style=\"text-align: right;\">\n",
              "      <th></th>\n",
              "      <th>TV</th>\n",
              "      <th>Radio</th>\n",
              "      <th>Newspaper</th>\n",
              "    </tr>\n",
              "  </thead>\n",
              "  <tbody>\n",
              "    <tr>\n",
              "      <th>1</th>\n",
              "      <td>230.1</td>\n",
              "      <td>37.8</td>\n",
              "      <td>69.2</td>\n",
              "    </tr>\n",
              "    <tr>\n",
              "      <th>2</th>\n",
              "      <td>44.5</td>\n",
              "      <td>39.3</td>\n",
              "      <td>45.1</td>\n",
              "    </tr>\n",
              "    <tr>\n",
              "      <th>3</th>\n",
              "      <td>17.2</td>\n",
              "      <td>45.9</td>\n",
              "      <td>69.3</td>\n",
              "    </tr>\n",
              "    <tr>\n",
              "      <th>4</th>\n",
              "      <td>151.5</td>\n",
              "      <td>41.3</td>\n",
              "      <td>58.5</td>\n",
              "    </tr>\n",
              "    <tr>\n",
              "      <th>5</th>\n",
              "      <td>180.8</td>\n",
              "      <td>10.8</td>\n",
              "      <td>58.4</td>\n",
              "    </tr>\n",
              "  </tbody>\n",
              "</table>\n",
              "</div>"
            ],
            "text/plain": [
              "      TV  Radio  Newspaper\n",
              "1  230.1   37.8       69.2\n",
              "2   44.5   39.3       45.1\n",
              "3   17.2   45.9       69.3\n",
              "4  151.5   41.3       58.5\n",
              "5  180.8   10.8       58.4"
            ]
          },
          "execution_count": 4,
          "metadata": {},
          "output_type": "execute_result"
        }
      ],
      "source": [
        "atributos = ['TV', 'Radio', 'Newspaper']\n",
        "\n",
        "X = data[atributos]\n",
        "X.head()"
      ]
    },
    {
      "cell_type": "code",
      "execution_count": null,
      "metadata": {
        "id": "UcMqKyaF6YtG",
        "outputId": "38ac1524-ce85-4dc1-e6c4-8416d4b08a0d"
      },
      "outputs": [
        {
          "data": {
            "text/plain": [
              "1    22.1\n",
              "2    10.4\n",
              "3     9.3\n",
              "4    18.5\n",
              "5    12.9\n",
              "Name: Sales, dtype: float64"
            ]
          },
          "execution_count": 5,
          "metadata": {},
          "output_type": "execute_result"
        }
      ],
      "source": [
        "y = data['Sales']\n",
        "y.head()"
      ]
    },
    {
      "cell_type": "markdown",
      "metadata": {
        "id": "oh1RRS4D6YtG"
      },
      "source": [
        "Em seguida, é necessário dividir quais dados serão apresentados na etapa de treino e quais dados serão apresentados na etapa de teste:"
      ]
    },
    {
      "cell_type": "code",
      "execution_count": null,
      "metadata": {
        "id": "ZacHFy346YtG",
        "outputId": "2b466922-9e2f-4372-ac93-6511f7d2d9ca"
      },
      "outputs": [
        {
          "name": "stdout",
          "output_type": "stream",
          "text": [
            "(140, 3)\n",
            "(140,)\n",
            "(60, 3)\n",
            "(60,)\n"
          ]
        }
      ],
      "source": [
        "from sklearn.model_selection import train_test_split\n",
        "\n",
        "X_train, X_test, y_train, y_test = train_test_split(X, y, test_size = 0.3, random_state=1) \n",
        "\n",
        "print(X_train.shape)\n",
        "print(y_train.shape)\n",
        "print(X_test.shape)\n",
        "print(y_test.shape)"
      ]
    },
    {
      "cell_type": "markdown",
      "metadata": {
        "id": "BWvpTX5D6YtG"
      },
      "source": [
        "### Regressão linear no scikit-learn"
      ]
    },
    {
      "cell_type": "code",
      "execution_count": null,
      "metadata": {
        "id": "cmDSvq3J6YtG",
        "outputId": "4f8701cd-e389-4821-cdf9-1d1e0a5555a6"
      },
      "outputs": [
        {
          "data": {
            "text/plain": [
              "LinearRegression(copy_X=True, fit_intercept=True, n_jobs=None, normalize=False)"
            ]
          },
          "execution_count": 7,
          "metadata": {},
          "output_type": "execute_result"
        }
      ],
      "source": [
        "from sklearn.linear_model import LinearRegression\n",
        "\n",
        "modelo = LinearRegression()\n",
        "\n",
        "modelo.fit(X_train, y_train)"
      ]
    },
    {
      "cell_type": "code",
      "execution_count": null,
      "metadata": {
        "id": "YNo8IsuT6YtG",
        "outputId": "1a2333be-27ad-471a-8ffb-a94c4e53edb1"
      },
      "outputs": [
        {
          "name": "stdout",
          "output_type": "stream",
          "text": [
            "2.9372157346906107\n",
            "[0.04695205 0.17658644 0.00185115]\n"
          ]
        }
      ],
      "source": [
        "print(modelo.intercept_)\n",
        "print(modelo.coef_)"
      ]
    },
    {
      "cell_type": "code",
      "execution_count": null,
      "metadata": {
        "id": "p0HUei_w6YtG",
        "outputId": "6e891ff7-465a-4e65-adb2-cd90fcd06cbd"
      },
      "outputs": [
        {
          "data": {
            "text/plain": [
              "[('TV', 0.04695204776848464),\n",
              " ('Radio', 0.1765864352681737),\n",
              " ('Newspaper', 0.0018511533188922402)]"
            ]
          },
          "execution_count": 9,
          "metadata": {},
          "output_type": "execute_result"
        }
      ],
      "source": [
        "list(zip(atributos, modelo.coef_)) # o comando zip junta dois vetores e forma tuplas"
      ]
    },
    {
      "cell_type": "markdown",
      "metadata": {
        "id": "-azXnL_f6YtH"
      },
      "source": [
        "$$y = 2.93 + 0.0469 \\times TV + 0.176 \\times Radio + 0.002 \\times Newspaper$$\n",
        "\n",
        "Como interpretar **o coeficiente da variável TV** (0.0469)?\n",
        "\n",
        "Quanto mais positivo o valor, maior o impacto, quanto menor o valor (inclusive negativo), maior a contribuição na outra direção. Quando os dados estão normalizados, então para uma dada quantia gasta com de Radio e Newspaper, **um adicional de $1.000 gastos com TV** reflete diretamente na **venda de 46.6 itens**, segundo esse modelo."
      ]
    },
    {
      "cell_type": "markdown",
      "metadata": {
        "id": "lD9yslRR6YtH"
      },
      "source": [
        "### Predição"
      ]
    },
    {
      "cell_type": "code",
      "execution_count": null,
      "metadata": {
        "id": "EfOXpaRX6YtH",
        "outputId": "b964a891-9a6e-42c0-c4f8-27ed9cc70e2b"
      },
      "outputs": [
        {
          "data": {
            "text/plain": [
              "array([11.19191652])"
            ]
          },
          "execution_count": 10,
          "metadata": {},
          "output_type": "execute_result"
        }
      ],
      "source": [
        "modelo.predict([[100,20,15]])"
      ]
    },
    {
      "cell_type": "markdown",
      "metadata": {
        "id": "yXbfIof26YtH"
      },
      "source": [
        "No cenário dado, era esperado a venda de aproximadamente **11,2 milhões** de itens de produto."
      ]
    },
    {
      "cell_type": "markdown",
      "metadata": {
        "id": "UXhRMDLv6YtH"
      },
      "source": [
        "### Avaliação de modelos de regressão\n",
        "\n",
        "Métricas como acurácia são comuns em problemas de classificação, mas não se aplicam em problemas de regressão. No lugar desta, são utilizadas métricas específicas para valores contínuos."
      ]
    },
    {
      "cell_type": "code",
      "execution_count": null,
      "metadata": {
        "id": "4EnWmQSK6YtH"
      },
      "outputs": [],
      "source": [
        "true = np.array([100, 50, 30, 20])\n",
        "pred = np.array([90, 50, 50, 30])"
      ]
    },
    {
      "cell_type": "markdown",
      "metadata": {
        "id": "KWU81W9h6YtH"
      },
      "source": [
        "**Mean Absolute Error** (MAE) é a média absoluta dos erros:\n",
        "\n",
        "$$\\frac 1n\\sum_{i=1}^n|y_i-\\hat{y}_i|$$"
      ]
    },
    {
      "cell_type": "code",
      "execution_count": null,
      "metadata": {
        "id": "Qmcip0jI6YtH",
        "outputId": "873dab78-1e79-4f33-d51a-04fe403e5281"
      },
      "outputs": [
        {
          "name": "stdout",
          "output_type": "stream",
          "text": [
            "10.0\n"
          ]
        }
      ],
      "source": [
        "# calculando MAE com scikit\n",
        "from sklearn import metrics\n",
        "print(metrics.mean_absolute_error(true, pred))"
      ]
    },
    {
      "cell_type": "markdown",
      "metadata": {
        "id": "b1sLdxQB6YtH"
      },
      "source": [
        "**Mean Squared Error** (MSE) é a média do quadrado dos erros:\n",
        "\n",
        "$$\\frac 1n\\sum_{i=1}^n(y_i-\\hat{y}_i)^2$$"
      ]
    },
    {
      "cell_type": "code",
      "execution_count": null,
      "metadata": {
        "id": "MX-G63VF6YtH",
        "outputId": "a3976f04-1eba-4d77-a770-153308a2d2d5"
      },
      "outputs": [
        {
          "name": "stdout",
          "output_type": "stream",
          "text": [
            "150.0\n"
          ]
        }
      ],
      "source": [
        "# calculando MSE com scikit\n",
        "print(metrics.mean_squared_error(true, pred))"
      ]
    },
    {
      "cell_type": "markdown",
      "metadata": {
        "id": "SlTqP8XA6YtH"
      },
      "source": [
        "**Root Mean Squared Error** (RMSE) é a raiz quadrada da média do quadrado dos erros:\n",
        "\n",
        "$$\\sqrt{\\frac 1n\\sum_{i=1}^n(y_i-\\hat{y}_i)^2}$$"
      ]
    },
    {
      "cell_type": "code",
      "execution_count": null,
      "metadata": {
        "id": "3KN5XRUE6YtI",
        "outputId": "ab99a51b-af7a-4a88-d7de-67128a22b84b"
      },
      "outputs": [
        {
          "name": "stdout",
          "output_type": "stream",
          "text": [
            "12.24744871391589\n"
          ]
        }
      ],
      "source": [
        "# calculando RMSE com scikit\n",
        "print(np.sqrt(metrics.mean_squared_error(true, pred)))"
      ]
    },
    {
      "cell_type": "markdown",
      "metadata": {
        "id": "zHQK2Fg66YtI"
      },
      "source": [
        "**Mean absolute percentage error** (MAPE) é a média do erro absoluto em percentual:\n",
        "\n",
        "$$\\displaystyle {\\mbox{M}}={\\frac {100\\%}{n}}\\sum _{t=1}^{n}\\left|{\\frac{y_i-\\hat{y}_i}{y_i}}\\right|$$"
      ]
    },
    {
      "cell_type": "code",
      "execution_count": null,
      "metadata": {
        "id": "ut5_W7066YtI",
        "outputId": "ef1af3d8-c067-409a-86ea-a8cc56f86796"
      },
      "outputs": [
        {
          "name": "stdout",
          "output_type": "stream",
          "text": [
            "31.666666666666664\n"
          ]
        }
      ],
      "source": [
        "# calculando MAPE com numpy -- pq não tem no scikit :(\n",
        "print(np.mean(np.abs((true - pred) / true)) * 100)"
      ]
    },
    {
      "cell_type": "markdown",
      "metadata": {
        "id": "utnH_oNl6YtI"
      },
      "source": [
        "A comparação entre as diferentes métricas:\n",
        "\n",
        "- **MAE** é a mais fácil de entender, porque é uma média.\n",
        "- **MSE** é mais popular que a MAE porque pune erros maiores.\n",
        "- **RMSE** é ainda mais popular porque, além das características anteriores, é interpretável em termos da variável de saída.\n",
        "- **MAPE** é interpretável em termos percentual, porém é necessário tomar cuidado com a divisão por zero"
      ]
    },
    {
      "cell_type": "markdown",
      "metadata": {
        "id": "DJzfFJK-6YtI"
      },
      "source": [
        "### Calculando RMSE para as predições de Vendas"
      ]
    },
    {
      "cell_type": "code",
      "execution_count": null,
      "metadata": {
        "id": "tnYs7z4a6YtI",
        "outputId": "74f6609a-34a1-4bc2-b838-8922729835cb"
      },
      "outputs": [
        {
          "name": "stdout",
          "output_type": "stream",
          "text": [
            "RMSE: 1.3888574107756972\n",
            "MAPE: 8.545502795467279\n"
          ]
        }
      ],
      "source": [
        "y_pred = modelo.predict(X_test)\n",
        "\n",
        "print('RMSE:',np.sqrt(metrics.mean_squared_error(y_test, y_pred)))\n",
        "print('MAPE:',np.mean(np.abs((y_test - y_pred) / y_test)) * 100)\n"
      ]
    },
    {
      "cell_type": "markdown",
      "metadata": {
        "id": "amLZms996YtI"
      },
      "source": [
        "### Validação Cruzada"
      ]
    },
    {
      "cell_type": "code",
      "execution_count": null,
      "metadata": {
        "id": "ccANfQv46YtI",
        "outputId": "bfded73a-4a8b-486b-87b5-27d24c51c355"
      },
      "outputs": [
        {
          "name": "stdout",
          "output_type": "stream",
          "text": [
            "R2: 0.89 (+/- 0.11)\n",
            "[0.87302696 0.8581613  0.92968723 0.89013272 0.93146498 0.93138735\n",
            " 0.7597901  0.91217097 0.83891753 0.92882311]\n"
          ]
        },
        {
          "name": "stderr",
          "output_type": "stream",
          "text": [
            "C:\\Users\\Pichau\\Anaconda3\\lib\\site-packages\\sklearn\\model_selection\\_split.py:296: FutureWarning: Setting a random_state has no effect since shuffle is False. This will raise an error in 0.24. You should leave random_state to its default (None), or set shuffle=True.\n",
            "  FutureWarning\n"
          ]
        }
      ],
      "source": [
        "from sklearn.model_selection import KFold\n",
        "\n",
        "X = data[atributos].values\n",
        "y = data.Sales.values\n",
        "\n",
        "kf = KFold(n_splits = 10, random_state = 42)\n",
        "\n",
        "scores = []\n",
        "\n",
        "for train_index, test_index in kf.split(X):\n",
        "    \n",
        "    X_train, X_test = X[train_index], X[test_index]\n",
        "    y_train, y_test = y[train_index], y[test_index]\n",
        "    \n",
        "    modelo = LinearRegression()\n",
        "    modelo.fit(X_train, y_train)\n",
        "    y_pred = modelo.predict(X_test)\n",
        "    #score = np.mean(np.abs((y_test - y_pred) / y_test)) * 100\n",
        "    #score = np.sqrt(metrics.mean_squared_error(y_test, y_pred))\n",
        "    score = modelo.score(X_test, y_test)\n",
        "    scores.append(score)\n",
        "    \n",
        "scores = np.array(scores)\n",
        "\n",
        "print(\"R2: %0.2f (+/- %0.2f)\" % (scores.mean(), scores.std() * 2))\n",
        "print(scores)"
      ]
    }
  ],
  "metadata": {
    "kernelspec": {
      "display_name": "Python 3",
      "language": "python",
      "name": "python3"
    },
    "language_info": {
      "codemirror_mode": {
        "name": "ipython",
        "version": 3
      },
      "file_extension": ".py",
      "mimetype": "text/x-python",
      "name": "python",
      "nbconvert_exporter": "python",
      "pygments_lexer": "ipython3",
      "version": "3.7.3"
    },
    "colab": {
      "provenance": []
    }
  },
  "nbformat": 4,
  "nbformat_minor": 0
}